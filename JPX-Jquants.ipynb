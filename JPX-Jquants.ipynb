{
 "cells": [
  {
   "cell_type": "markdown",
   "metadata": {},
   "source": [
    "# J-Quantsを使って株価情報取得"
   ]
  },
  {
   "cell_type": "markdown",
   "metadata": {},
   "source": [
    "### 新規Refresh Tokenの取得"
   ]
  },
  {
   "cell_type": "markdown",
   "metadata": {},
   "source": [
    "設定ファイルとしてファイル名「jpx_jquants_settings.ini」を作り、\n",
    "```ini\n",
    "[JPX]\n",
    "MailAddress=（J-Quantsで登録したメールアドレス）\n",
    "Password=（J-Quantsで登録したパスワード）\n",
    "```\n",
    "と記載する必要があります"
   ]
  },
  {
   "cell_type": "code",
   "execution_count": 2,
   "metadata": {},
   "outputs": [
    {
     "name": "stdout",
     "output_type": "stream",
     "text": [
      "Refresh Token is updated.\n"
     ]
    }
   ],
   "source": [
    "import requests\n",
    "import json\n",
    "import configparser\n",
    "\n",
    "\n",
    "config = configparser.ConfigParser()\n",
    "config_token = configparser.ConfigParser()\n",
    "\n",
    "config.read(\"jpx_jquants_settings.ini\")\n",
    "config_token.read(\"jpx_jquants_tokens.ini\")\n",
    "\n",
    "# Refresh Tokenの取得\n",
    "data = {\"mailaddress\":config[\"JPX\"][\"MailAddress\"], \"password\":config[\"JPX\"][\"Password\"]}\n",
    "r_post = requests.post(\"https://api.jquants.com/v1/token/auth_user\", json=data)\n",
    "token_json_data = r_post.json()\n",
    "refresh_token_jpx_jquants = token_json_data[\"refreshToken\"]\n",
    "# print(token_json_data)\n",
    "\n",
    "# トークンの保存\n",
    "try:\n",
    "    config_token.add_section(\"JPX_JQUANTS_TOKEN\")\n",
    "\n",
    "# トークンのセクションが存在する場合は更新\n",
    "except configparser.DuplicateSectionError:\n",
    "    config_token.set(\"JPX_JQUANTS_TOKEN\", \"RefreshToken\", refresh_token_jpx_jquants)\n",
    "    with open(\"jpx_jquants_tokens.ini\", \"w\") as f:\n",
    "        config_token.write(f)\n",
    "\n",
    "    print(\"Refresh Token is updated.\")\n"
   ]
  },
  {
   "cell_type": "markdown",
   "metadata": {},
   "source": [
    "### IDトークン取得"
   ]
  },
  {
   "cell_type": "code",
   "execution_count": 3,
   "metadata": {},
   "outputs": [
    {
     "name": "stdout",
     "output_type": "stream",
     "text": [
      "ID Token is updated.\n"
     ]
    }
   ],
   "source": [
    "import configparser\n",
    "import requests\n",
    "\n",
    "# ID Tokenの取得\n",
    "try: \n",
    "    config_token == None\n",
    "\n",
    "except NameError:\n",
    "    config_token = configparser.ConfigParser()\n",
    "    config_token.read(\"jpx_jquants_tokens.ini\")\n",
    "\n",
    "# IDトークンの取得\n",
    "get_id_token = requests.post(\\\n",
    "    \"https://api.jquants.com/v1/token/auth_refresh?refreshtoken={}\".format( \\\n",
    "    config_token[\"JPX_JQUANTS_TOKEN\"][\"RefreshToken\"]))\n",
    "id_token_json_data = get_id_token.json()\n",
    "id_token_jpx_jquants = id_token_json_data[\"idToken\"]\n",
    "config_token.set(\"JPX_JQUANTS_TOKEN\", \"IdToken\", id_token_jpx_jquants)\n",
    "\n",
    "# ID Tokenの保存\n",
    "with open(\"jpx_jquants_tokens.ini\", \"w\") as f:\n",
    "    config_token.write(f)\n",
    "\n",
    "print(\"ID Token is updated.\")"
   ]
  },
  {
   "cell_type": "markdown",
   "metadata": {},
   "source": [
    "### 銘柄リストを取得してJsonとして保存"
   ]
  },
  {
   "cell_type": "code",
   "execution_count": 4,
   "metadata": {},
   "outputs": [],
   "source": [
    "import json\n",
    "\n",
    "headers = {'Authorization': 'Bearer {}'.format(id_token_jpx_jquants)}\n",
    "get_stock_list = requests.get(\"https://api.jquants.com/v1/listed/info\", headers=headers)\n",
    "\n",
    "with open(\"stock_list.json\", \"w\") as f:\n",
    "    json.dump(get_stock_list.json()['info'], f, ensure_ascii=False)"
   ]
  },
  {
   "cell_type": "markdown",
   "metadata": {},
   "source": [
    "### 銘柄リストをCSVに出力"
   ]
  },
  {
   "cell_type": "code",
   "execution_count": 5,
   "metadata": {},
   "outputs": [
    {
     "name": "stdout",
     "output_type": "stream",
     "text": [
      "0                                                      極洋\n",
      "1                 大和アセットマネジメント株式会社　ｉＦｒｅｅＥＴＦ　ＴＯＰＩＸ（年１回決算型）\n",
      "2                野村アセットマネジメント株式会社　ＮＥＸＴ　ＦＵＮＤＳ　ＴＯＰＩＸ連動型上場投信\n",
      "3                     日興アセットマネジメント株式会社　　上場インデックスファンドＴＯＰＩＸ\n",
      "4       野村アセットマネジメント株式会社　ＮＥＸＴ　ＦＵＮＤＳ　ＣｈｉｎａＡＭＣ・中国株式・上証５０...\n",
      "                              ...                        \n",
      "4399                                                 ジェコス\n",
      "4400                                                 ヤマザワ\n",
      "4401                                                  やまや\n",
      "4402                                                サトー商会\n",
      "4403                                                 ベルーナ\n",
      "Name: CompanyName, Length: 4404, dtype: object\n"
     ]
    }
   ],
   "source": [
    "import pandas as pd\n",
    "df = pd.read_json(\"stock_list.json\")\n",
    "# df = pd.read_json(get_stock_list.json())\n",
    "df.to_csv(\"stock_list.csv\",encoding='cp932')\n",
    "print(df.CompanyName)"
   ]
  },
  {
   "cell_type": "markdown",
   "metadata": {},
   "source": [
    "### 任天堂の株価取得"
   ]
  },
  {
   "cell_type": "code",
   "execution_count": 9,
   "metadata": {},
   "outputs": [
    {
     "data": {
      "application/vnd.plotly.v1+json": {
       "config": {
        "plotlyServerURL": "https://plot.ly"
       },
       "data": [
        {
         "hovertemplate": "Date=%{x}<br>Close=%{y}<extra></extra>",
         "legendgroup": "",
         "line": {
          "color": "#636efa",
          "dash": "solid"
         },
         "marker": {
          "symbol": "circle"
         },
         "mode": "lines",
         "name": "",
         "orientation": "v",
         "showlegend": false,
         "type": "scatter",
         "x": [
          "2023-01-04",
          "2023-01-05",
          "2023-01-06",
          "2023-01-10",
          "2023-01-11",
          "2023-01-12",
          "2023-01-13",
          "2023-01-16",
          "2023-01-17",
          "2023-01-18",
          "2023-01-19",
          "2023-01-20",
          "2023-01-23",
          "2023-01-24",
          "2023-01-25",
          "2023-01-26",
          "2023-01-27",
          "2023-01-30",
          "2023-01-31",
          "2023-02-01",
          "2023-02-02",
          "2023-02-03",
          "2023-02-06",
          "2023-02-07",
          "2023-02-08",
          "2023-02-09",
          "2023-02-10",
          "2023-02-13",
          "2023-02-14",
          "2023-02-15",
          "2023-02-16",
          "2023-02-17",
          "2023-02-20",
          "2023-02-21",
          "2023-02-22",
          "2023-02-24",
          "2023-02-27",
          "2023-02-28",
          "2023-03-01",
          "2023-03-02",
          "2023-03-03",
          "2023-03-06",
          "2023-03-07",
          "2023-03-08",
          "2023-03-09",
          "2023-03-10",
          "2023-03-13",
          "2023-03-14",
          "2023-03-15",
          "2023-03-16",
          "2023-03-17",
          "2023-03-20",
          "2023-03-22",
          "2023-03-23",
          "2023-03-24",
          "2023-03-27",
          "2023-03-28",
          "2023-03-29",
          "2023-03-30",
          "2023-03-31",
          "2023-04-03",
          "2023-04-04",
          "2023-04-05",
          "2023-04-06",
          "2023-04-07",
          "2023-04-10",
          "2023-04-11",
          "2023-04-12",
          "2023-04-13",
          "2023-04-14",
          "2023-04-17",
          "2023-04-18",
          "2023-04-19",
          "2023-04-20",
          "2023-04-21",
          "2023-04-24",
          "2023-04-25",
          "2023-04-26",
          "2023-04-27",
          "2023-04-28",
          "2023-05-01",
          "2023-05-02",
          "2023-05-08",
          "2023-05-09",
          "2023-05-10",
          "2023-05-11",
          "2023-05-12",
          "2023-05-15",
          "2023-05-16",
          "2023-05-17",
          "2023-05-18",
          "2023-05-19",
          "2023-05-22",
          "2023-05-23",
          "2023-05-24",
          "2023-05-25",
          "2023-05-26",
          "2023-05-29",
          "2023-05-30",
          "2023-05-31",
          "2023-06-01",
          "2023-06-02",
          "2023-06-05",
          "2023-06-06",
          "2023-06-07",
          "2023-06-08",
          "2023-06-09",
          "2023-06-12",
          "2023-06-13",
          "2023-06-14",
          "2023-06-15",
          "2023-06-16",
          "2023-06-19",
          "2023-06-20",
          "2023-06-21",
          "2023-06-22",
          "2023-06-23",
          "2023-06-26",
          "2023-06-27",
          "2023-06-28",
          "2023-06-29",
          "2023-06-30",
          "2023-07-03",
          "2023-07-04",
          "2023-07-05",
          "2023-07-06",
          "2023-07-07",
          "2023-07-10",
          "2023-07-11",
          "2023-07-12",
          "2023-07-13",
          "2023-07-14",
          "2023-07-18",
          "2023-07-19",
          "2023-07-20",
          "2023-07-21",
          "2023-07-24",
          "2023-07-25",
          "2023-07-26",
          "2023-07-27",
          "2023-07-28",
          "2023-07-31",
          "2023-08-01",
          "2023-08-02",
          "2023-08-03",
          "2023-08-04",
          "2023-08-07",
          "2023-08-08",
          "2023-08-09",
          "2023-08-10",
          "2023-08-14",
          "2023-08-15",
          "2023-08-16",
          "2023-08-17",
          "2023-08-18",
          "2023-08-21",
          "2023-08-22",
          "2023-08-23",
          "2023-08-24",
          "2023-08-25",
          "2023-08-28",
          "2023-08-29",
          "2023-08-30",
          "2023-08-31",
          "2023-09-01",
          "2023-09-04",
          "2023-09-05",
          "2023-09-06",
          "2023-09-07",
          "2023-09-08",
          "2023-09-11",
          "2023-09-12",
          "2023-09-13",
          "2023-09-14",
          "2023-09-15",
          "2023-09-19",
          "2023-09-20",
          "2023-09-21",
          "2023-09-22",
          "2023-09-25",
          "2023-09-26",
          "2023-09-27",
          "2023-09-28",
          "2023-09-29",
          "2023-10-02",
          "2023-10-03",
          "2023-10-04",
          "2023-10-05",
          "2023-10-06",
          "2023-10-10",
          "2023-10-11",
          "2023-10-12",
          "2023-10-13",
          "2023-10-16",
          "2023-10-17",
          "2023-10-18",
          "2023-10-19",
          "2023-10-20",
          "2023-10-23",
          "2023-10-24",
          "2023-10-25",
          "2023-10-26",
          "2023-10-27",
          "2023-10-30",
          "2023-10-31",
          "2023-11-01",
          "2023-11-02",
          "2023-11-06",
          "2023-11-07",
          "2023-11-08",
          "2023-11-09",
          "2023-11-10",
          "2023-11-13",
          "2023-11-14",
          "2023-11-15",
          "2023-11-16",
          "2023-11-17",
          "2023-11-20",
          "2023-11-21",
          "2023-11-22",
          "2023-11-24",
          "2023-11-27",
          "2023-11-28",
          "2023-11-29",
          "2023-11-30",
          "2023-12-01",
          "2023-12-04",
          "2023-12-05",
          "2023-12-06",
          "2023-12-07",
          "2023-12-08",
          "2023-12-11",
          "2023-12-12",
          "2023-12-13",
          "2023-12-14",
          "2023-12-15",
          "2023-12-18",
          "2023-12-19",
          "2023-12-20",
          "2023-12-21",
          "2023-12-22",
          "2023-12-25",
          "2023-12-26",
          "2023-12-27",
          "2023-12-28",
          "2023-12-29",
          "2024-01-04",
          "2024-01-05",
          "2024-01-09",
          "2024-01-10",
          "2024-01-11",
          "2024-01-12",
          "2024-01-15",
          "2024-01-16",
          "2024-01-17",
          "2024-01-18",
          "2024-01-19",
          "2024-01-22",
          "2024-01-23",
          "2024-01-24",
          "2024-01-25",
          "2024-01-26",
          "2024-01-29",
          "2024-01-30",
          "2024-01-31",
          "2024-02-01",
          "2024-02-02",
          "2024-02-05",
          "2024-02-06",
          "2024-02-07",
          "2024-02-08",
          "2024-02-09",
          "2024-02-13",
          "2024-02-14",
          "2024-02-15",
          "2024-02-16",
          "2024-02-19",
          "2024-02-20",
          "2024-02-21",
          "2024-02-22",
          "2024-02-26",
          "2024-02-27",
          "2024-02-28",
          "2024-02-29",
          "2024-03-01",
          "2024-03-04",
          "2024-03-05",
          "2024-03-06",
          "2024-03-07",
          "2024-03-08",
          "2024-03-11",
          "2024-03-12",
          "2024-03-13",
          "2024-03-14",
          "2024-03-15",
          "2024-03-18",
          "2024-03-19",
          "2024-03-21",
          "2024-03-22",
          "2024-03-25",
          "2024-03-26",
          "2024-03-27",
          "2024-03-28",
          "2024-03-29",
          "2024-04-01",
          "2024-04-02",
          "2024-04-03",
          "2024-04-04",
          "2024-04-05",
          "2024-04-08",
          "2024-04-09",
          "2024-04-10",
          "2024-04-11",
          "2024-04-12",
          "2024-04-15",
          "2024-04-16",
          "2024-04-17",
          "2024-04-18",
          "2024-04-19",
          "2024-04-22",
          "2024-04-23",
          "2024-04-24",
          "2024-04-25",
          "2024-04-26",
          "2024-04-30",
          "2024-05-01",
          "2024-05-02",
          "2024-05-07",
          "2024-05-08",
          "2024-05-09",
          "2024-05-10",
          "2024-05-13",
          "2024-05-14",
          "2024-05-15",
          "2024-05-16",
          "2024-05-17",
          "2024-05-20",
          "2024-05-21",
          "2024-05-22",
          "2024-05-23",
          "2024-05-24",
          "2024-05-27",
          "2024-05-28",
          "2024-05-29",
          "2024-05-30",
          "2024-05-31",
          "2024-06-03",
          "2024-06-04",
          "2024-06-05",
          "2024-06-06",
          "2024-06-07",
          "2024-06-10",
          "2024-06-11",
          "2024-06-12",
          "2024-06-13",
          "2024-06-14",
          "2024-06-17",
          "2024-06-18",
          "2024-06-19",
          "2024-06-20",
          "2024-06-21",
          "2024-06-24",
          "2024-06-25",
          "2024-06-26",
          "2024-06-27",
          "2024-06-28",
          "2024-07-01",
          "2024-07-02",
          "2024-07-03",
          "2024-07-04",
          "2024-07-05",
          "2024-07-08",
          "2024-07-09",
          "2024-07-10",
          "2024-07-11",
          "2024-07-12",
          "2024-07-16",
          "2024-07-17",
          "2024-07-18",
          "2024-07-19",
          "2024-07-22",
          "2024-07-23",
          "2024-07-24",
          "2024-07-25",
          "2024-07-26",
          "2024-07-29",
          "2024-07-30",
          "2024-07-31",
          "2024-08-01",
          "2024-08-02",
          "2024-08-05",
          "2024-08-06",
          "2024-08-07",
          "2024-08-08",
          "2024-08-09",
          "2024-08-13",
          "2024-08-14",
          "2024-08-15",
          "2024-08-16",
          "2024-08-19",
          "2024-08-20",
          "2024-08-21",
          "2024-08-22",
          "2024-08-23",
          "2024-08-26",
          "2024-08-27",
          "2024-08-28",
          "2024-08-29",
          "2024-08-30",
          "2024-09-02",
          "2024-09-03",
          "2024-09-04",
          "2024-09-05",
          "2024-09-06",
          "2024-09-09",
          "2024-09-10",
          "2024-09-11",
          "2024-09-12",
          "2024-09-13",
          "2024-09-17",
          "2024-09-18",
          "2024-09-19",
          "2024-09-20",
          "2024-09-24",
          "2024-09-25",
          "2024-09-26",
          "2024-09-27",
          "2024-09-30",
          "2024-10-01",
          "2024-10-02",
          "2024-10-03",
          "2024-10-04",
          "2024-10-07",
          "2024-10-08",
          "2024-10-09",
          "2024-10-10",
          "2024-10-11",
          "2024-10-15",
          "2024-10-16",
          "2024-10-17",
          "2024-10-18",
          "2024-10-21",
          "2024-10-22",
          "2024-10-23",
          "2024-10-24",
          "2024-10-25",
          "2024-10-28",
          "2024-10-29",
          "2024-10-30",
          "2024-10-31",
          "2024-11-01",
          "2024-11-05",
          "2024-11-06",
          "2024-11-07",
          "2024-11-08",
          "2024-11-11",
          "2024-11-12",
          "2024-11-13",
          "2024-11-14",
          "2024-11-15",
          "2024-11-18",
          "2024-11-19",
          "2024-11-20",
          "2024-11-21",
          "2024-11-22",
          "2024-11-25",
          "2024-11-26",
          "2024-11-27",
          "2024-11-28",
          "2024-11-29",
          "2024-12-02",
          "2024-12-03",
          "2024-12-04",
          "2024-12-05",
          "2024-12-06",
          "2024-12-09",
          "2024-12-10",
          "2024-12-11",
          "2024-12-12",
          "2024-12-13",
          "2024-12-16",
          "2024-12-17",
          "2024-12-18",
          "2024-12-19",
          "2024-12-20",
          "2024-12-23",
          "2024-12-24",
          "2024-12-25",
          "2024-12-26",
          "2024-12-27",
          "2024-12-30",
          "2025-01-06",
          "2025-01-07",
          "2025-01-08",
          "2025-01-09",
          "2025-01-10",
          "2025-01-14",
          "2025-01-15",
          "2025-01-16",
          "2025-01-17",
          "2025-01-20",
          "2025-01-21",
          "2025-01-22",
          "2025-01-23",
          "2025-01-24",
          "2025-01-27",
          "2025-01-28",
          "2025-01-29",
          "2025-01-30",
          "2025-01-31",
          "2025-02-03",
          "2025-02-04",
          "2025-02-05",
          "2025-02-06",
          "2025-02-07",
          "2025-02-10",
          "2025-02-12",
          "2025-02-13",
          "2025-02-14",
          "2025-02-17",
          "2025-02-18",
          "2025-02-19",
          "2025-02-20",
          "2025-02-21",
          "2025-02-25",
          "2025-02-26",
          "2025-02-27",
          "2025-02-28",
          "2025-03-03",
          "2025-03-04",
          "2025-03-05",
          "2025-03-06",
          "2025-03-07"
         ],
         "xaxis": "x",
         "y": {
          "bdata": "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",
          "dtype": "f8"
         },
         "yaxis": "y"
        }
       ],
       "layout": {
        "legend": {
         "tracegroupgap": 0
        },
        "template": {
         "data": {
          "bar": [
           {
            "error_x": {
             "color": "#f2f5fa"
            },
            "error_y": {
             "color": "#f2f5fa"
            },
            "marker": {
             "line": {
              "color": "rgb(17,17,17)",
              "width": 0.5
             },
             "pattern": {
              "fillmode": "overlay",
              "size": 10,
              "solidity": 0.2
             }
            },
            "type": "bar"
           }
          ],
          "barpolar": [
           {
            "marker": {
             "line": {
              "color": "rgb(17,17,17)",
              "width": 0.5
             },
             "pattern": {
              "fillmode": "overlay",
              "size": 10,
              "solidity": 0.2
             }
            },
            "type": "barpolar"
           }
          ],
          "carpet": [
           {
            "aaxis": {
             "endlinecolor": "#A2B1C6",
             "gridcolor": "#506784",
             "linecolor": "#506784",
             "minorgridcolor": "#506784",
             "startlinecolor": "#A2B1C6"
            },
            "baxis": {
             "endlinecolor": "#A2B1C6",
             "gridcolor": "#506784",
             "linecolor": "#506784",
             "minorgridcolor": "#506784",
             "startlinecolor": "#A2B1C6"
            },
            "type": "carpet"
           }
          ],
          "choropleth": [
           {
            "colorbar": {
             "outlinewidth": 0,
             "ticks": ""
            },
            "type": "choropleth"
           }
          ],
          "contour": [
           {
            "colorbar": {
             "outlinewidth": 0,
             "ticks": ""
            },
            "colorscale": [
             [
              0,
              "#0d0887"
             ],
             [
              0.1111111111111111,
              "#46039f"
             ],
             [
              0.2222222222222222,
              "#7201a8"
             ],
             [
              0.3333333333333333,
              "#9c179e"
             ],
             [
              0.4444444444444444,
              "#bd3786"
             ],
             [
              0.5555555555555556,
              "#d8576b"
             ],
             [
              0.6666666666666666,
              "#ed7953"
             ],
             [
              0.7777777777777778,
              "#fb9f3a"
             ],
             [
              0.8888888888888888,
              "#fdca26"
             ],
             [
              1,
              "#f0f921"
             ]
            ],
            "type": "contour"
           }
          ],
          "contourcarpet": [
           {
            "colorbar": {
             "outlinewidth": 0,
             "ticks": ""
            },
            "type": "contourcarpet"
           }
          ],
          "heatmap": [
           {
            "colorbar": {
             "outlinewidth": 0,
             "ticks": ""
            },
            "colorscale": [
             [
              0,
              "#0d0887"
             ],
             [
              0.1111111111111111,
              "#46039f"
             ],
             [
              0.2222222222222222,
              "#7201a8"
             ],
             [
              0.3333333333333333,
              "#9c179e"
             ],
             [
              0.4444444444444444,
              "#bd3786"
             ],
             [
              0.5555555555555556,
              "#d8576b"
             ],
             [
              0.6666666666666666,
              "#ed7953"
             ],
             [
              0.7777777777777778,
              "#fb9f3a"
             ],
             [
              0.8888888888888888,
              "#fdca26"
             ],
             [
              1,
              "#f0f921"
             ]
            ],
            "type": "heatmap"
           }
          ],
          "histogram": [
           {
            "marker": {
             "pattern": {
              "fillmode": "overlay",
              "size": 10,
              "solidity": 0.2
             }
            },
            "type": "histogram"
           }
          ],
          "histogram2d": [
           {
            "colorbar": {
             "outlinewidth": 0,
             "ticks": ""
            },
            "colorscale": [
             [
              0,
              "#0d0887"
             ],
             [
              0.1111111111111111,
              "#46039f"
             ],
             [
              0.2222222222222222,
              "#7201a8"
             ],
             [
              0.3333333333333333,
              "#9c179e"
             ],
             [
              0.4444444444444444,
              "#bd3786"
             ],
             [
              0.5555555555555556,
              "#d8576b"
             ],
             [
              0.6666666666666666,
              "#ed7953"
             ],
             [
              0.7777777777777778,
              "#fb9f3a"
             ],
             [
              0.8888888888888888,
              "#fdca26"
             ],
             [
              1,
              "#f0f921"
             ]
            ],
            "type": "histogram2d"
           }
          ],
          "histogram2dcontour": [
           {
            "colorbar": {
             "outlinewidth": 0,
             "ticks": ""
            },
            "colorscale": [
             [
              0,
              "#0d0887"
             ],
             [
              0.1111111111111111,
              "#46039f"
             ],
             [
              0.2222222222222222,
              "#7201a8"
             ],
             [
              0.3333333333333333,
              "#9c179e"
             ],
             [
              0.4444444444444444,
              "#bd3786"
             ],
             [
              0.5555555555555556,
              "#d8576b"
             ],
             [
              0.6666666666666666,
              "#ed7953"
             ],
             [
              0.7777777777777778,
              "#fb9f3a"
             ],
             [
              0.8888888888888888,
              "#fdca26"
             ],
             [
              1,
              "#f0f921"
             ]
            ],
            "type": "histogram2dcontour"
           }
          ],
          "mesh3d": [
           {
            "colorbar": {
             "outlinewidth": 0,
             "ticks": ""
            },
            "type": "mesh3d"
           }
          ],
          "parcoords": [
           {
            "line": {
             "colorbar": {
              "outlinewidth": 0,
              "ticks": ""
             }
            },
            "type": "parcoords"
           }
          ],
          "pie": [
           {
            "automargin": true,
            "type": "pie"
           }
          ],
          "scatter": [
           {
            "marker": {
             "line": {
              "color": "#283442"
             }
            },
            "type": "scatter"
           }
          ],
          "scatter3d": [
           {
            "line": {
             "colorbar": {
              "outlinewidth": 0,
              "ticks": ""
             }
            },
            "marker": {
             "colorbar": {
              "outlinewidth": 0,
              "ticks": ""
             }
            },
            "type": "scatter3d"
           }
          ],
          "scattercarpet": [
           {
            "marker": {
             "colorbar": {
              "outlinewidth": 0,
              "ticks": ""
             }
            },
            "type": "scattercarpet"
           }
          ],
          "scattergeo": [
           {
            "marker": {
             "colorbar": {
              "outlinewidth": 0,
              "ticks": ""
             }
            },
            "type": "scattergeo"
           }
          ],
          "scattergl": [
           {
            "marker": {
             "line": {
              "color": "#283442"
             }
            },
            "type": "scattergl"
           }
          ],
          "scattermap": [
           {
            "marker": {
             "colorbar": {
              "outlinewidth": 0,
              "ticks": ""
             }
            },
            "type": "scattermap"
           }
          ],
          "scattermapbox": [
           {
            "marker": {
             "colorbar": {
              "outlinewidth": 0,
              "ticks": ""
             }
            },
            "type": "scattermapbox"
           }
          ],
          "scatterpolar": [
           {
            "marker": {
             "colorbar": {
              "outlinewidth": 0,
              "ticks": ""
             }
            },
            "type": "scatterpolar"
           }
          ],
          "scatterpolargl": [
           {
            "marker": {
             "colorbar": {
              "outlinewidth": 0,
              "ticks": ""
             }
            },
            "type": "scatterpolargl"
           }
          ],
          "scatterternary": [
           {
            "marker": {
             "colorbar": {
              "outlinewidth": 0,
              "ticks": ""
             }
            },
            "type": "scatterternary"
           }
          ],
          "surface": [
           {
            "colorbar": {
             "outlinewidth": 0,
             "ticks": ""
            },
            "colorscale": [
             [
              0,
              "#0d0887"
             ],
             [
              0.1111111111111111,
              "#46039f"
             ],
             [
              0.2222222222222222,
              "#7201a8"
             ],
             [
              0.3333333333333333,
              "#9c179e"
             ],
             [
              0.4444444444444444,
              "#bd3786"
             ],
             [
              0.5555555555555556,
              "#d8576b"
             ],
             [
              0.6666666666666666,
              "#ed7953"
             ],
             [
              0.7777777777777778,
              "#fb9f3a"
             ],
             [
              0.8888888888888888,
              "#fdca26"
             ],
             [
              1,
              "#f0f921"
             ]
            ],
            "type": "surface"
           }
          ],
          "table": [
           {
            "cells": {
             "fill": {
              "color": "#506784"
             },
             "line": {
              "color": "rgb(17,17,17)"
             }
            },
            "header": {
             "fill": {
              "color": "#2a3f5f"
             },
             "line": {
              "color": "rgb(17,17,17)"
             }
            },
            "type": "table"
           }
          ]
         },
         "layout": {
          "annotationdefaults": {
           "arrowcolor": "#f2f5fa",
           "arrowhead": 0,
           "arrowwidth": 1
          },
          "autotypenumbers": "strict",
          "coloraxis": {
           "colorbar": {
            "outlinewidth": 0,
            "ticks": ""
           }
          },
          "colorscale": {
           "diverging": [
            [
             0,
             "#8e0152"
            ],
            [
             0.1,
             "#c51b7d"
            ],
            [
             0.2,
             "#de77ae"
            ],
            [
             0.3,
             "#f1b6da"
            ],
            [
             0.4,
             "#fde0ef"
            ],
            [
             0.5,
             "#f7f7f7"
            ],
            [
             0.6,
             "#e6f5d0"
            ],
            [
             0.7,
             "#b8e186"
            ],
            [
             0.8,
             "#7fbc41"
            ],
            [
             0.9,
             "#4d9221"
            ],
            [
             1,
             "#276419"
            ]
           ],
           "sequential": [
            [
             0,
             "#0d0887"
            ],
            [
             0.1111111111111111,
             "#46039f"
            ],
            [
             0.2222222222222222,
             "#7201a8"
            ],
            [
             0.3333333333333333,
             "#9c179e"
            ],
            [
             0.4444444444444444,
             "#bd3786"
            ],
            [
             0.5555555555555556,
             "#d8576b"
            ],
            [
             0.6666666666666666,
             "#ed7953"
            ],
            [
             0.7777777777777778,
             "#fb9f3a"
            ],
            [
             0.8888888888888888,
             "#fdca26"
            ],
            [
             1,
             "#f0f921"
            ]
           ],
           "sequentialminus": [
            [
             0,
             "#0d0887"
            ],
            [
             0.1111111111111111,
             "#46039f"
            ],
            [
             0.2222222222222222,
             "#7201a8"
            ],
            [
             0.3333333333333333,
             "#9c179e"
            ],
            [
             0.4444444444444444,
             "#bd3786"
            ],
            [
             0.5555555555555556,
             "#d8576b"
            ],
            [
             0.6666666666666666,
             "#ed7953"
            ],
            [
             0.7777777777777778,
             "#fb9f3a"
            ],
            [
             0.8888888888888888,
             "#fdca26"
            ],
            [
             1,
             "#f0f921"
            ]
           ]
          },
          "colorway": [
           "#636efa",
           "#EF553B",
           "#00cc96",
           "#ab63fa",
           "#FFA15A",
           "#19d3f3",
           "#FF6692",
           "#B6E880",
           "#FF97FF",
           "#FECB52"
          ],
          "font": {
           "color": "#f2f5fa"
          },
          "geo": {
           "bgcolor": "rgb(17,17,17)",
           "lakecolor": "rgb(17,17,17)",
           "landcolor": "rgb(17,17,17)",
           "showlakes": true,
           "showland": true,
           "subunitcolor": "#506784"
          },
          "hoverlabel": {
           "align": "left"
          },
          "hovermode": "closest",
          "mapbox": {
           "style": "dark"
          },
          "paper_bgcolor": "rgb(17,17,17)",
          "plot_bgcolor": "rgb(17,17,17)",
          "polar": {
           "angularaxis": {
            "gridcolor": "#506784",
            "linecolor": "#506784",
            "ticks": ""
           },
           "bgcolor": "rgb(17,17,17)",
           "radialaxis": {
            "gridcolor": "#506784",
            "linecolor": "#506784",
            "ticks": ""
           }
          },
          "scene": {
           "xaxis": {
            "backgroundcolor": "rgb(17,17,17)",
            "gridcolor": "#506784",
            "gridwidth": 2,
            "linecolor": "#506784",
            "showbackground": true,
            "ticks": "",
            "zerolinecolor": "#C8D4E3"
           },
           "yaxis": {
            "backgroundcolor": "rgb(17,17,17)",
            "gridcolor": "#506784",
            "gridwidth": 2,
            "linecolor": "#506784",
            "showbackground": true,
            "ticks": "",
            "zerolinecolor": "#C8D4E3"
           },
           "zaxis": {
            "backgroundcolor": "rgb(17,17,17)",
            "gridcolor": "#506784",
            "gridwidth": 2,
            "linecolor": "#506784",
            "showbackground": true,
            "ticks": "",
            "zerolinecolor": "#C8D4E3"
           }
          },
          "shapedefaults": {
           "line": {
            "color": "#f2f5fa"
           }
          },
          "sliderdefaults": {
           "bgcolor": "#C8D4E3",
           "bordercolor": "rgb(17,17,17)",
           "borderwidth": 1,
           "tickwidth": 0
          },
          "ternary": {
           "aaxis": {
            "gridcolor": "#506784",
            "linecolor": "#506784",
            "ticks": ""
           },
           "baxis": {
            "gridcolor": "#506784",
            "linecolor": "#506784",
            "ticks": ""
           },
           "bgcolor": "rgb(17,17,17)",
           "caxis": {
            "gridcolor": "#506784",
            "linecolor": "#506784",
            "ticks": ""
           }
          },
          "title": {
           "x": 0.05
          },
          "updatemenudefaults": {
           "bgcolor": "#506784",
           "borderwidth": 0
          },
          "xaxis": {
           "automargin": true,
           "gridcolor": "#283442",
           "linecolor": "#506784",
           "ticks": "",
           "title": {
            "standoff": 15
           },
           "zerolinecolor": "#283442",
           "zerolinewidth": 2
          },
          "yaxis": {
           "automargin": true,
           "gridcolor": "#283442",
           "linecolor": "#506784",
           "ticks": "",
           "title": {
            "standoff": 15
           },
           "zerolinecolor": "#283442",
           "zerolinewidth": 2
          }
         }
        },
        "title": {
         "text": "Nintendo Stock Price"
        },
        "xaxis": {
         "anchor": "y",
         "domain": [
          0,
          1
         ],
         "title": {
          "text": "Date"
         }
        },
        "yaxis": {
         "anchor": "x",
         "domain": [
          0,
          1
         ],
         "title": {
          "text": "Close"
         }
        }
       }
      }
     },
     "metadata": {},
     "output_type": "display_data"
    }
   ],
   "source": [
    "import requests\n",
    "import json\n",
    "import time\n",
    "\n",
    "stock_list = {'任天堂':79740}\n",
    "\n",
    "headers = {'Authorization': 'Bearer {}'.format(id_token_jpx_jquants)}\n",
    "r = requests.get(\"https://api.jquants.com/v1/prices/daily_quotes?code={0}&from=20230101&to={1}\".format(stock_list['任天堂'], time.strftime(\"%Y%H%M\", time.localtime())), headers=headers)\n",
    "gotStockData = r.json()\n",
    "\n",
    "nintendo_stock = pd.DataFrame.from_dict(gotStockData['daily_quotes'])\n",
    "nintendo_stock.to_csv(\"nintendo_stock.csv\",encoding='cp932')\n",
    "\n",
    "pd.options.plotting.backend = \"plotly\"\n",
    "nintendo_stock.plot(x='Date', y='Close', title='Nintendo Stock Price', labels={'close':'Stock Price'}, template='plotly_dark')"
   ]
  },
  {
   "cell_type": "code",
   "execution_count": null,
   "metadata": {},
   "outputs": [],
   "source": []
  }
 ],
 "metadata": {
  "kernelspec": {
   "display_name": "kabu",
   "language": "python",
   "name": "python3"
  },
  "language_info": {
   "codemirror_mode": {
    "name": "ipython",
    "version": 3
   },
   "file_extension": ".py",
   "mimetype": "text/x-python",
   "name": "python",
   "nbconvert_exporter": "python",
   "pygments_lexer": "ipython3",
   "version": "3.12.9"
  }
 },
 "nbformat": 4,
 "nbformat_minor": 2
}
